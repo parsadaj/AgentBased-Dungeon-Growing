{
 "cells": [
  {
   "cell_type": "code",
   "execution_count": 77,
   "metadata": {},
   "outputs": [],
   "source": [
    "import numpy as np\n",
    "import random\n",
    "import matplotlib.pyplot as plt\n",
    "from utils import plot_dungeon\n"
   ]
  },
  {
   "cell_type": "code",
   "execution_count": 18,
   "metadata": {},
   "outputs": [
    {
     "data": {
      "text/plain": [
       "{1, 2, 3}"
      ]
     },
     "execution_count": 18,
     "metadata": {},
     "output_type": "execute_result"
    }
   ],
   "source": [
    "a = set((1,2,3,2))\n",
    "a"
   ]
  },
  {
   "cell_type": "code",
   "execution_count": 20,
   "metadata": {},
   "outputs": [
    {
     "data": {
      "text/plain": [
       "3"
      ]
     },
     "execution_count": 20,
     "metadata": {},
     "output_type": "execute_result"
    }
   ],
   "source": [
    "random.choice(list(set(a)))"
   ]
  },
  {
   "cell_type": "code",
   "execution_count": null,
   "metadata": {},
   "outputs": [],
   "source": []
  },
  {
   "cell_type": "code",
   "execution_count": 94,
   "metadata": {},
   "outputs": [],
   "source": [
    "class BlindDungeonGenerator:\n",
    "    def __init__(self, width, height, Pc=1, Pr=1, dPc=1, dPr=1):\n",
    "        self.width = width\n",
    "        self.height = height\n",
    "        self.dungeon = np.zeros((height, width), dtype=int)\n",
    "        self.agent_position = (random.randint(0, height-1), random.randint(0, width-1))\n",
    "        self.directions= [(0, 1), (0, -1), (1, 0), (-1, 0)]\n",
    "        self.agent_direction = random.choice(self.directions)\n",
    "        self.Pc = Pc  # chance of changing direction\n",
    "        self.Pr = Pr  # chance of adding room\n",
    "        self.dPc = dPc\n",
    "        self.dPr = dPr\n",
    "\n",
    "    def dig(self):\n",
    "        x, y = self.agent_position\n",
    "\n",
    "        while not self.is_dungeon_large_enough() and 0 <= x < self.height and 0 <= y < self.width:\n",
    "            \n",
    "            self.dungeon[x, y] = 1  # mark tile as corridor\n",
    "            \n",
    "            dx, dy = self.agent_direction\n",
    "\n",
    "            x += dx\n",
    "            y += dy\n",
    "            \n",
    "            # if x >= self.height:\n",
    "            #     x = x % self.height\n",
    "            # if y >=\n",
    "\n",
    "            Nc = random.randint(0, 100)\n",
    "            if Nc < self.Pc:\n",
    "                print(\"changed to \", self.agent_direction)\n",
    "                available_directions = self.get_available_directions()\n",
    "                self.agent_direction = random.choice(available_directions)\n",
    "                self.Pc = 0\n",
    "            else:\n",
    "                self.Pc += self.dPc\n",
    "\n",
    "            Nr = random.randint(0, 100)\n",
    "            if Nr < self.Pr:\n",
    "                print(\"placed room at \", x, y)\n",
    "                room_width = random.randint(3, 10)\n",
    "                room_height = random.randint(3, 10)\n",
    "                self.place_room(x, y, room_width, room_height)\n",
    "                self.Pr = 0\n",
    "                \n",
    "                x += dx*room_width//2\n",
    "                y += dy*room_height//2\n",
    "            else:\n",
    "                self.Pr += self.dPr\n",
    "                \n",
    "\n",
    "\n",
    "    def place_room(self, x, y, width, height):\n",
    "        for i in range(x - width//2, x + (width+1)//2):\n",
    "            for j in range(y - height//2, y + (height+1)//2):\n",
    "                if 0 <= i < self.height and 0 <= j < self.width:\n",
    "                    self.dungeon[i, j] = 1\n",
    "\n",
    "    def is_dungeon_large_enough(self):\n",
    "        # You can define your own condition for dungeon size here\n",
    "        # For simplicity, let's assume dungeon is large enough if more than 30% of area is filled\n",
    "        return np.sum(self.dungeon == 1) / (self.width * self.height) > 0.5\n",
    "\n",
    "    def generate(self):\n",
    "        self.dig()\n",
    "        return self.dungeon\n",
    "    \n",
    "    def get_available_directions(self):\n",
    "        opposit_direction = tuple(i*-1 for i in self.agent_direction)\n",
    "        available_directions = set(self.directions) - set([opposit_direction, self.agent_direction])\n",
    "        return list(available_directions)"
   ]
  },
  {
   "cell_type": "code",
   "execution_count": 95,
   "metadata": {},
   "outputs": [
    {
     "name": "stdout",
     "output_type": "stream",
     "text": [
      "changed to  (-1, 0)\n",
      "placed room at  1 7\n"
     ]
    },
    {
     "data": {
      "image/png": "[encoded data removed]",
      "text/plain": [
       "<Figure size 640x480 with 1 Axes>"
      ]
     },
     "metadata": {},
     "output_type": "display_data"
    }
   ],
   "source": [
    "# Example usage\n",
    "width = 50\n",
    "height = 30\n",
    "generator = BlindDungeonGenerator(width, height)\n",
    "dungeon = generator.generate()\n",
    "plot_dungeon(dungeon)\n"
   ]
  },
  {
   "cell_type": "code",
   "execution_count": null,
   "metadata": {},
   "outputs": [],
   "source": []
  }
 ],
 "metadata": {
  "kernelspec": {
   "display_name": "Python 3",
   "language": "python",
   "name": "python3"
  },
  "language_info": {
   "codemirror_mode": {
    "name": "ipython",
    "version": 3
   },
   "file_extension": ".py",
   "mimetype": "text/x-python",
   "name": "python",
   "nbconvert_exporter": "python",
   "pygments_lexer": "ipython3",
   "version": "3.9.6"
  }
 },
 "nbformat": 4,
 "nbformat_minor": 2
}
