{
 "cells": [
  {
   "cell_type": "code",
   "execution_count": 1,
   "metadata": {},
   "outputs": [],
   "source": [
    "import numpy as np\n",
    "import random\n",
    "import matplotlib.pyplot as plt\n",
    "from utils import plot_dungeon\n"
   ]
  },
  {
   "cell_type": "code",
   "execution_count": 2,
   "metadata": {},
   "outputs": [
    {
     "data": {
      "text/plain": [
       "{1, 2, 3}"
      ]
     },
     "execution_count": 2,
     "metadata": {},
     "output_type": "execute_result"
    }
   ],
   "source": [
    "a = set((1,2,3,2))\n",
    "a"
   ]
  },
  {
   "cell_type": "code",
   "execution_count": 3,
   "metadata": {},
   "outputs": [
    {
     "data": {
      "text/plain": [
       "1"
      ]
     },
     "execution_count": 3,
     "metadata": {},
     "output_type": "execute_result"
    }
   ],
   "source": [
    "random.choice(list(set(a)))"
   ]
  },
  {
   "cell_type": "code",
   "execution_count": null,
   "metadata": {},
   "outputs": [],
   "source": []
  },
  {
   "cell_type": "code",
   "execution_count": 4,
   "metadata": {},
   "outputs": [],
   "source": [
    "class BlindDungeonGenerator:\n",
    "    def __init__(self, width, height, Pc=1, Pr=1, dPc=1, dPr=1, verbose=0):\n",
    "        self.width = width\n",
    "        self.height = height\n",
    "        self.dungeon = np.zeros((height, width), dtype=int)\n",
    "        self.start_position = (random.randint(0, height-1), random.randint(0, width-1))\n",
    "        self.agent_position = self.start_position\n",
    "        self.directions= [(0, 1), (0, -1), (1, 0), (-1, 0)]\n",
    "        self.agent_direction = random.choice(self.directions)\n",
    "        self.Pc = Pc  # chance of changing direction\n",
    "        self.Pr = Pr  # chance of adding room\n",
    "        self.dPc = dPc\n",
    "        self.dPr = dPr\n",
    "        self.verbose = verbose\n",
    "\n",
    "    def dig(self):\n",
    "        x, y = self.agent_position\n",
    "\n",
    "        while not self.is_dungeon_large_enough():\n",
    "            if x < 0:\n",
    "                self.dungeon = np.vstack((np.zeros_like(self.dungeon), self.dungeon))\n",
    "                x += self.dungeon.shape[0]\n",
    "            elif x >= self.dungeon.shape[0]:\n",
    "                self.dungeon = np.vstack((self.dungeon, np.zeros_like(self.dungeon)))\n",
    "                \n",
    "            if y < 0:\n",
    "                self.dungeon = np.hstack((np.zeros_like(self.dungeon), self.dungeon))\n",
    "                y += self.dungeon.shape[1]\n",
    "            elif y >= self.dungeon.shape[1]:\n",
    "                self.dungeon = np.hstack((self.dungeon, np.zeros_like(self.dungeon)))\n",
    "                        \n",
    "            self.dungeon[x, y] = 1  # mark tile as corridor\n",
    "            \n",
    "            dx, dy = self.agent_direction\n",
    "\n",
    "            x += dx\n",
    "            y += dy\n",
    "            \n",
    "            # if x >= self.height:\n",
    "            #     x = x % self.height\n",
    "            # if y >=\n",
    "\n",
    "            Nc = random.randint(0, 100)\n",
    "            if Nc < self.Pc:\n",
    "                if self.verbose:\n",
    "                    print(\"changed to \", self.agent_direction)\n",
    "                available_directions = self.get_available_directions()\n",
    "                self.agent_direction = random.choice(available_directions)\n",
    "                self.Pc = 0\n",
    "            else:\n",
    "                self.Pc += self.dPc\n",
    "\n",
    "            Nr = random.randint(0, 100)\n",
    "            if Nr < self.Pr:\n",
    "                if self.verbose:\n",
    "                    print(\"placed room at \", x, y)\n",
    "                room_width = random.randint(3, 10)\n",
    "                room_height = random.randint(3, 10)\n",
    "                self.place_room(x, y, room_width, room_height)\n",
    "                self.Pr = 0\n",
    "                \n",
    "                x += dx*room_width//2\n",
    "                y += dy*room_height//2\n",
    "            else:\n",
    "                self.Pr += self.dPr\n",
    "                \n",
    "\n",
    "\n",
    "    def place_room(self, x, y, width, height):\n",
    "        for i in range(x - width//2, x + (width+1)//2):\n",
    "            for j in range(y - height//2, y + (height+1)//2):\n",
    "                if 0 <= i < self.dungeon.shape[0] and 0 <= j < self.dungeon.shape[1]:\n",
    "                    self.dungeon[i, j] = 1\n",
    "\n",
    "    def is_dungeon_large_enough(self):\n",
    "        # You can define your own condition for dungeon size here\n",
    "        # For simplicity, let's assume dungeon is large enough if more than 30% of area is filled\n",
    "        return np.sum(self.dungeon == 1) / (self.width * self.height) > 0.5\n",
    "\n",
    "    def generate(self):\n",
    "        self.dig()\n",
    "        return self.dungeon\n",
    "    \n",
    "    def get_available_directions(self):\n",
    "        opposit_direction = tuple(i*-1 for i in self.agent_direction)\n",
    "        available_directions = set(self.directions) - set([opposit_direction, self.agent_direction])\n",
    "        return list(available_directions)"
   ]
  },
  {
   "cell_type": "code",
   "execution_count": 24,
   "metadata": {},
   "outputs": [
    {
     "data": {
      "text/plain": [
       "(-0.5, 53.5, 66.5, -0.5)"
      ]
     },
     "execution_count": 24,
     "metadata": {},
     "output_type": "execute_result"
    },
    {
     "data": {
      "image/png": "[encoded data removed]",
      "text/plain": [
       "<Figure size 1500x1500 with 1 Axes>"
      ]
     },
     "metadata": {},
     "output_type": "display_data"
    }
   ],
   "source": [
    "# Example usage\n",
    "width = 50\n",
    "height = 30\n",
    "generator = BlindDungeonGenerator(width, height)\n",
    "dungeon = generator.generate()\n",
    "\n",
    "# Find the indices of rows and columns that are not all zeros\n",
    "rows = np.any(dungeon, axis=1)\n",
    "cols = np.any(dungeon, axis=0)\n",
    "\n",
    "# Get the start and end indices for rows and columns\n",
    "row_start, row_end = np.where(rows)[0][[0, -1]]\n",
    "col_start, col_end = np.where(cols)[0][[0, -1]]\n",
    "\n",
    "# Extract the subarray that contains the image\n",
    "image = dungeon[row_start:row_end+1, col_start:col_end+1]\n",
    "new_image = np.zeros(np.array(image.shape)+2)\n",
    "new_image[1:-1, 1:-1] = image\n",
    "\n",
    "plt.figure(figsize=(15,15))\n",
    "plt.imshow(new_image, cmap='gray')\n",
    "plt.axis('off')"
   ]
  },
  {
   "cell_type": "code",
   "execution_count": 11,
   "metadata": {},
   "outputs": [
    {
     "data": {
      "text/plain": [
       "True"
      ]
     },
     "execution_count": 11,
     "metadata": {},
     "output_type": "execute_result"
    }
   ],
   "source": [
    "generator.is_dungeon_large_enough()"
   ]
  },
  {
   "cell_type": "code",
   "execution_count": 17,
   "metadata": {},
   "outputs": [
    {
     "data": {
      "text/plain": [
       "[1, 2]"
      ]
     },
     "execution_count": 17,
     "metadata": {},
     "output_type": "execute_result"
    }
   ],
   "source": [
    "a=[1,2,\n",
    "   3]\n",
    "a[:-1]"
   ]
  },
  {
   "cell_type": "code",
   "execution_count": null,
   "metadata": {},
   "outputs": [],
   "source": []
  }
 ],
 "metadata": {
  "kernelspec": {
   "display_name": "Python 3",
   "language": "python",
   "name": "python3"
  },
  "language_info": {
   "codemirror_mode": {
    "name": "ipython",
    "version": 3
   },
   "file_extension": ".py",
   "mimetype": "text/x-python",
   "name": "python",
   "nbconvert_exporter": "python",
   "pygments_lexer": "ipython3",
   "version": "3.9.6"
  }
 },
 "nbformat": 4,
 "nbformat_minor": 2
}
